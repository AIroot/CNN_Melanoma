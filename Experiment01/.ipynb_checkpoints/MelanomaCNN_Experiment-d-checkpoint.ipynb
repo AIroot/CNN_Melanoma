{
 "cells": [
  {
   "cell_type": "code",
   "execution_count": 1,
   "metadata": {},
   "outputs": [],
   "source": [
    "# Use original images \n",
    "# Dermoscopic - Malignant - Number of images -1084\n",
    "# Dermoscopic - Benign - Number of images - 3417(1084)\n",
    "\n",
    "# Training - 80%\n",
    "# Validation-(80%)20%\n",
    "# Testing - 20%\n"
   ]
  },
  {
   "cell_type": "code",
   "execution_count": 2,
   "metadata": {},
   "outputs": [],
   "source": [
    "import cv2\n",
    "import numpy as np\n",
    "import os\n",
    "from random import shuffle\n",
    "from tqdm import tqdm\n"
   ]
  },
  {
   "cell_type": "code",
   "execution_count": null,
   "metadata": {},
   "outputs": [],
   "source": []
  },
  {
   "cell_type": "code",
   "execution_count": 3,
   "metadata": {},
   "outputs": [],
   "source": [
    "TRAIN_DIR = 'OriginalImages/Training'\n",
    "VALIDATION_DIR = 'OriginalImages/Validation'\n",
    "TEST_DIR = ''\n",
    "IMG_SIZE = 50\n",
    "LR = 1e-6\n",
    "FILE_NAME = 'MelanomaCNN_Experiment_d'\n",
    "MODEL_NAME = 'MelanomaBenVsMal-{}-{}.model'.format(LR, FILE_NAME) "
   ]
  },
  {
   "cell_type": "code",
   "execution_count": 4,
   "metadata": {},
   "outputs": [],
   "source": [
    "def label_img(img):\n",
    "    word_label = img.split('.')[-3]\n",
    "    if word_label == 'Ben': return [1,0]\n",
    "    elif word_label == 'Mal' : return [0,1]\n",
    "    \n",
    "    "
   ]
  },
  {
   "cell_type": "code",
   "execution_count": 5,
   "metadata": {},
   "outputs": [],
   "source": [
    "def create_train_data():\n",
    "    training_data = []\n",
    "    for img in tqdm(os.listdir(TRAIN_DIR)):\n",
    "        label = label_img(img)\n",
    "        path = os.path.join(TRAIN_DIR, img)\n",
    "        img = cv2.resize(cv2.imread(path, cv2.IMREAD_GRAYSCALE),(IMG_SIZE, IMG_SIZE))\n",
    "        training_data.append([np.array(img), np.array(label)])\n",
    "    shuffle(training_data)\n",
    "    np.save('orig_train_data.npy', training_data)\n",
    "    return training_data"
   ]
  },
  {
   "cell_type": "code",
   "execution_count": 6,
   "metadata": {},
   "outputs": [],
   "source": [
    "def create_validation_data():\n",
    "    validation_data = []\n",
    "    for img in tqdm(os.listdir(VALIDATION_DIR)):\n",
    "        label = label_img(img)\n",
    "        path = os.path.join(VALIDATION_DIR, img)\n",
    "        img = cv2.resize(cv2.imread(path, cv2.IMREAD_GRAYSCALE),(IMG_SIZE, IMG_SIZE))\n",
    "        validation_data.append([np.array(img), np.array(label)])\n",
    "    shuffle(validation_data)\n",
    "    np.save('orig_validation_data.npy', validation_data)\n",
    "    return validation_data"
   ]
  },
  {
   "cell_type": "code",
   "execution_count": 7,
   "metadata": {},
   "outputs": [],
   "source": [
    "def process_test_data():\n",
    "    testing_data = []\n",
    "    for img in tqdm(os.listdir(TEST_DIR)):\n",
    "        path = os.path.join(TEST_DIR, img)\n",
    "        img_num = img.split('.')[0]\n",
    "        img = cv2.resize(cv2.imread(path, cv2.IMREAD_GRAYSCALE),(IMG_SIZE, IMG_SIZE))\n",
    "        testing_data.append([np.array(img), img_num])\n",
    "    \n",
    "    np.save('test_data.npy', testing_data)\n",
    "    return testing_data"
   ]
  },
  {
   "cell_type": "code",
   "execution_count": 8,
   "metadata": {},
   "outputs": [],
   "source": [
    "# train_data = create_train_data()\n",
    "# validate_data = create_validation_data()\n",
    "# if you already have train data:\n",
    "train_data  = np.load('orig_train_data.npy')\n",
    "validate_data  = np.load('orig_validation_data.npy')\n"
   ]
  },
  {
   "cell_type": "code",
   "execution_count": 9,
   "metadata": {},
   "outputs": [],
   "source": [
    "import tflearn\n",
    "from tflearn.layers.conv import conv_2d, max_pool_2d\n",
    "from tflearn.layers.core import input_data, dropout, fully_connected\n",
    "\n",
    "from tflearn.layers.normalization import local_response_normalization\n",
    "from tflearn.layers.estimator import regression\n",
    "\n",
    "\n",
    "# Reset the kernal\n",
    "import tensorflow as tf\n",
    "tf.reset_default_graph()\n",
    "\n",
    "# Network Architecture \n",
    "\n",
    "convnet = input_data(shape=[None, IMG_SIZE, IMG_SIZE, 1], name='input')\n",
    "\n",
    "convnet = conv_2d(convnet, 32, 2, activation='relu')\n",
    "convnet = max_pool_2d(convnet, 2)\n",
    "\n",
    "convnet = conv_2d(convnet, 64, 2, activation='relu')\n",
    "convnet = max_pool_2d(convnet, 2)\n",
    "\n",
    "\n",
    "convnet = fully_connected(convnet, 2, activation='softmax')\n",
    "convnet = regression(convnet, optimizer='adam', learning_rate=LR, loss='categorical_crossentropy', name='targets')\n",
    "\n",
    "\n",
    "model = tflearn.DNN(convnet, tensorboard_dir=FILE_NAME)\n"
   ]
  },
  {
   "cell_type": "code",
   "execution_count": 10,
   "metadata": {},
   "outputs": [],
   "source": [
    "if os.path.exists('{}.meta'.format(MODEL_NAME)):\n",
    "    model.load(MODEL_NAME)\n",
    "    print('model loaded!')"
   ]
  },
  {
   "cell_type": "code",
   "execution_count": 11,
   "metadata": {},
   "outputs": [],
   "source": [
    "train = train_data\n",
    "test = validate_data\n"
   ]
  },
  {
   "cell_type": "code",
   "execution_count": 12,
   "metadata": {},
   "outputs": [],
   "source": [
    "X = np.array([i[0] for i in train]).reshape(-1, IMG_SIZE, IMG_SIZE, 1)\n",
    "Y = [i[1] for i in train]\n",
    "\n",
    "test_x = np.array([i[0] for i in test]).reshape(-1, IMG_SIZE, IMG_SIZE, 1)\n",
    "test_y = [i[1] for i in test]"
   ]
  },
  {
   "cell_type": "code",
   "execution_count": 13,
   "metadata": {
    "scrolled": true
   },
   "outputs": [
    {
     "name": "stdout",
     "output_type": "stream",
     "text": [
      "Training Step: 1149  | total loss: \u001b[1m\u001b[32m11.64450\u001b[0m\u001b[0m | time: 2.685s\n",
      "| Adam | epoch: 050 | loss: 11.64450 - acc: 0.4943 -- iter: 1408/1430\n",
      "Training Step: 1150  | total loss: \u001b[1m\u001b[32m11.63134\u001b[0m\u001b[0m | time: 3.869s\n",
      "| Adam | epoch: 050 | loss: 11.63134 - acc: 0.4949 | val_loss: 11.44861 - val_acc: 0.5028 -- iter: 1430/1430\n",
      "--\n"
     ]
    }
   ],
   "source": [
    "model.fit({'input': X}, {'targets': Y}, n_epoch=50, validation_set=({'input': test_x}, {'targets': test_y}), snapshot_step=200, show_metric=True, run_id=MODEL_NAME)"
   ]
  },
  {
   "cell_type": "code",
   "execution_count": 14,
   "metadata": {},
   "outputs": [
    {
     "name": "stdout",
     "output_type": "stream",
     "text": [
      "INFO:tensorflow:/home/airoot/CNN_Melanona/Experiment01/MelanomaBenVsMal-1e-06-MelanomaCNN_Experiment_d.model is not in all_model_checkpoint_paths. Manually adding it.\n"
     ]
    }
   ],
   "source": [
    "model.save(MODEL_NAME)"
   ]
  },
  {
   "cell_type": "code",
   "execution_count": null,
   "metadata": {},
   "outputs": [],
   "source": [
    "# import matplotlib.pyplot as plt\n",
    "\n",
    "# # if you dont have this file yet\n",
    "# # test_data = process_test_data()\n",
    "\n",
    "# # if you already have it\n",
    "# test_data = np.load('test_data.npy')\n",
    "\n",
    "# fig = plt.figure()\n",
    "\n",
    "# for num, data in enumerate(test_data[:12]):\n",
    "#     # Ben: [1,0]\n",
    "#     # Mal: [0,1]\n",
    "    \n",
    "#     img_num = data[1]\n",
    "#     img_data = data[0]\n",
    "    \n",
    "#     y = fig.add_subplot(3,20, num+1)\n",
    "#     orig = img_data\n",
    "#     data = img_data.reshape(IMG_SIZE, IMG_SIZE,1)\n",
    "        \n",
    "#     model_out = model.predict([data])[0]\n",
    "    \n",
    "#     if np.argmax(model_out) == 1: str_label='Mal'\n",
    "#     else: str_label = 'Ben'\n",
    "    \n",
    "#     y.imshow(orig, cmap=None)\n",
    "#     plt.title(str_label)\n",
    "    \n",
    "#     y.axes.get_xaxis().set_visible(False)\n",
    "#     y.axes.get_yaxis().set_visible(False)\n",
    "# plt.show()\n",
    "    \n",
    "    \n",
    "\n",
    "\n"
   ]
  },
  {
   "cell_type": "code",
   "execution_count": null,
   "metadata": {},
   "outputs": [],
   "source": []
  }
 ],
 "metadata": {
  "kernelspec": {
   "display_name": "Python 3",
   "language": "python",
   "name": "python3"
  },
  "language_info": {
   "codemirror_mode": {
    "name": "ipython",
    "version": 3
   },
   "file_extension": ".py",
   "mimetype": "text/x-python",
   "name": "python",
   "nbconvert_exporter": "python",
   "pygments_lexer": "ipython3",
   "version": "3.5.2"
  }
 },
 "nbformat": 4,
 "nbformat_minor": 2
}
