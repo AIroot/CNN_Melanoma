{
 "cells": [
  {
   "cell_type": "code",
   "execution_count": 1,
   "metadata": {},
   "outputs": [],
   "source": [
    "# Use original+Aug images \n",
    "# Dermoscopic - Malignant\n",
    "# Dermoscopic - Benign\n",
    "\n",
    "# Training - 80%\n",
    "# Validation-(80%)20%\n",
    "# Testing - 20%\n",
    "\n",
    "# References:\n",
    "#     Very Deep Convolutional Networks for Large-Scale Image Recognition.\n",
    "#     K. Simonyan, A. Zisserman. arXiv technical report, 2014."
   ]
  },
  {
   "cell_type": "code",
   "execution_count": 2,
   "metadata": {},
   "outputs": [],
   "source": [
    "import cv2\n",
    "import numpy as np\n",
    "import os\n",
    "from random import shuffle\n",
    "from tqdm import tqdm\n"
   ]
  },
  {
   "cell_type": "code",
   "execution_count": null,
   "metadata": {},
   "outputs": [],
   "source": []
  },
  {
   "cell_type": "code",
   "execution_count": 3,
   "metadata": {},
   "outputs": [],
   "source": [
    "TRAIN_DIR = ''\n",
    "VALIDATION_DIR = ''\n",
    "TEST_DIR = ''\n",
    "IMG_SIZE = 50\n",
    "LR = 1e-6\n",
    "FILE_NAME = 'MelanomaCNN_AIrootNet'\n",
    "\n",
    "MODEL_NAME = 'MelanomaBenVsMal-{}-{}.model'.format(LR, FILE_NAME) "
   ]
  },
  {
   "cell_type": "code",
   "execution_count": 4,
   "metadata": {},
   "outputs": [],
   "source": [
    "def label_img(img):\n",
    "    word_label = img.split('.')[-3]\n",
    "    if word_label == 'Ben': return [1,0]\n",
    "    elif word_label == 'Mal' : return [0,1]\n",
    "    \n",
    "    "
   ]
  },
  {
   "cell_type": "code",
   "execution_count": 5,
   "metadata": {},
   "outputs": [],
   "source": [
    "def create_train_data():\n",
    "    training_data = []\n",
    "    for img in tqdm(os.listdir(TRAIN_DIR)):\n",
    "        label = label_img(img)\n",
    "        path = os.path.join(TRAIN_DIR, img)\n",
    "        img = cv2.resize(cv2.imread(path, cv2.IMREAD_GRAYSCALE),(IMG_SIZE, IMG_SIZE))\n",
    "        training_data.append([np.array(img), np.array(label)])\n",
    "    shuffle(training_data)\n",
    "    np.save('Aug50_train_data.npy', training_data)\n",
    "    return training_data"
   ]
  },
  {
   "cell_type": "code",
   "execution_count": 6,
   "metadata": {},
   "outputs": [],
   "source": [
    "def create_validation_data():\n",
    "    validation_data = []\n",
    "    for img in tqdm(os.listdir(VALIDATION_DIR)):\n",
    "        label = label_img(img)\n",
    "        path = os.path.join(VALIDATION_DIR, img)\n",
    "        img = cv2.resize(cv2.imread(path, cv2.IMREAD_GRAYSCALE),(IMG_SIZE, IMG_SIZE))\n",
    "        validation_data.append([np.array(img), np.array(label)])\n",
    "    shuffle(validation_data)\n",
    "    np.save('Aug50_validation_data.npy', validation_data)\n",
    "    return validation_data"
   ]
  },
  {
   "cell_type": "code",
   "execution_count": 7,
   "metadata": {},
   "outputs": [],
   "source": [
    "def process_test_data():\n",
    "    testing_data = []\n",
    "    for img in tqdm(os.listdir(TEST_DIR)):\n",
    "        path = os.path.join(TEST_DIR, img)\n",
    "        img_num = img.split('.')[0]\n",
    "        img = cv2.resize(cv2.imread(path, cv2.IMREAD_GRAYSCALE),(IMG_SIZE, IMG_SIZE))\n",
    "        testing_data.append([np.array(img), img_num])\n",
    "    \n",
    "    np.save('BenOritest_data.npy', testing_data)\n",
    "    return testing_data"
   ]
  },
  {
   "cell_type": "code",
   "execution_count": 8,
   "metadata": {},
   "outputs": [],
   "source": [
    "# train_data = create_train_data()\n",
    "# validate_data = create_validation_data()\n",
    "# if you already have train data:\n",
    "train_data  = np.load('Aug50_train_data.npy')\n",
    "validate_data  = np.load('Aug50_validation_data.npy')\n"
   ]
  },
  {
   "cell_type": "code",
   "execution_count": 9,
   "metadata": {},
   "outputs": [],
   "source": [
    "import tflearn\n",
    "from tflearn.layers.conv import conv_2d, max_pool_2d, highway_conv_2d\n",
    "from tflearn.layers.core import input_data, dropout, fully_connected\n",
    "\n",
    "from tflearn.layers.normalization import local_response_normalization, batch_normalization\n",
    "from tflearn.layers.estimator import regression\n",
    "\n",
    "\n",
    "# Reset the kernal\n",
    "import tensorflow as tf\n",
    "tf.reset_default_graph()\n",
    "\n",
    "# Network Architecture \n",
    "\n",
    "convnet = input_data(shape=[None, IMG_SIZE, IMG_SIZE, 1], name='input')\n",
    "\n",
    "convnet = conv_2d(convnet, 64, 3, activation='relu')\n",
    "convnet = conv_2d(convnet, 64, 3, activation='relu')\n",
    "convnet = max_pool_2d(convnet, 2, strides=2)\n",
    "convnet = batch_normalization(convnet)\n",
    "\n",
    "convnet = conv_2d(convnet, 128, 3, activation='relu')\n",
    "convnet = conv_2d(convnet, 128, 3, activation='relu')\n",
    "convnet = max_pool_2d(convnet, 2, strides=2)\n",
    "convnet = batch_normalization(convnet)\n",
    "\n",
    "\n",
    "convnet = conv_2d(convnet, 256, 3, activation='relu')\n",
    "convnet = conv_2d(convnet, 256, 3, activation='relu')\n",
    "convnet = conv_2d(convnet, 256, 3, activation='relu')\n",
    "convnet = max_pool_2d(convnet, 2, strides=2)\n",
    "convnet = batch_normalization(convnet)\n",
    "\n",
    "\n",
    "convnet = conv_2d(convnet, 512, 3, activation='relu')\n",
    "convnet = conv_2d(convnet, 512, 3, activation='relu')\n",
    "convnet = conv_2d(convnet, 512, 3, activation='relu')\n",
    "convnet = max_pool_2d(convnet, 2, strides=2)\n",
    "convnet = batch_normalization(convnet)\n",
    "\n",
    "convnet = conv_2d(convnet, 512, 3, activation='relu')\n",
    "convnet = conv_2d(convnet, 512, 3, activation='relu')\n",
    "convnet = conv_2d(convnet, 512, 3, activation='relu')\n",
    "convnet = max_pool_2d(convnet, 2, strides=2)\n",
    "convnet = batch_normalization(convnet)\n",
    "\n",
    "convnet = fully_connected(convnet, 4096, activation='relu')\n",
    "convnet = dropout(convnet, 0.5)\n",
    "convnet = fully_connected(convnet, 4096, activation='relu')\n",
    "convnet = dropout(convnet, 0.5)\n",
    "\n",
    "convnet = fully_connected(convnet, 2, activation='softmax')\n",
    "convnet = regression(convnet, optimizer='rmsprop', learning_rate=LR, loss='categorical_crossentropy', name='targets')\n",
    "\n",
    "\n",
    "model = tflearn.DNN(convnet, tensorboard_dir=FILE_NAME)\n",
    "\n",
    "\n",
    "\n",
    "\n",
    "# #highway convolutions with pooling and dropout\n",
    "# for i in range(4):\n",
    "#     for j in [3, 2, 1]: \n",
    "#         convnet = conv_2d(convnet, 32, j, activation='elu')\n",
    "#     convnet = max_pool_2d(convnet, 2)\n",
    "#     convnet = batch_normalization(convnet)\n",
    "    \n",
    "# convnet = fully_connected(convnet, 128, activation='elu')\n",
    "# # convnet = dropout(convnet, 0.5)\n",
    "# convnet = fully_connected(convnet, 256, activation='elu')\n",
    "# convnet = dropout(convnet, 0.8)\n",
    "\n",
    "# convnet = fully_connected(convnet, 2, activation='softmax')\n",
    "# convnet = regression(convnet, optimizer='adam', learning_rate=LR, loss='categorical_crossentropy', name='targets')\n",
    "\n",
    "\n",
    "# model = tflearn.DNN(convnet, tensorboard_dir=FILE_NAME)\n"
   ]
  },
  {
   "cell_type": "code",
   "execution_count": 10,
   "metadata": {},
   "outputs": [],
   "source": [
    "if os.path.exists('{}.meta'.format(MODEL_NAME)):\n",
    "    model.load(MODEL_NAME)\n",
    "    print('model loaded!')"
   ]
  },
  {
   "cell_type": "code",
   "execution_count": 11,
   "metadata": {},
   "outputs": [],
   "source": [
    "train = train_data\n",
    "test = validate_data\n"
   ]
  },
  {
   "cell_type": "code",
   "execution_count": 12,
   "metadata": {},
   "outputs": [],
   "source": [
    "X = np.array([i[0] for i in train]).reshape(-1, IMG_SIZE, IMG_SIZE, 1)\n",
    "Y = [i[1] for i in train]\n",
    "\n",
    "test_x = np.array([i[0] for i in test]).reshape(-1, IMG_SIZE, IMG_SIZE, 1)\n",
    "test_y = [i[1] for i in test]"
   ]
  },
  {
   "cell_type": "code",
   "execution_count": 13,
   "metadata": {
    "scrolled": true
   },
   "outputs": [
    {
     "name": "stdout",
     "output_type": "stream",
     "text": [
      "Training Step: 5023  | total loss: \u001b[1m\u001b[32m0.58863\u001b[0m\u001b[0m | time: 4639.780s\n",
      "| RMSProp | epoch: 016 | loss: 0.58863 - acc: 0.7140 -- iter: 20032/20046\n",
      "Training Step: 5024  | total loss: \u001b[1m\u001b[32m0.57602\u001b[0m\u001b[0m | time: 4911.848s\n",
      "| RMSProp | epoch: 016 | loss: 0.57602 - acc: 0.7238 | val_loss: 0.71888 - val_acc: 0.6163 -- iter: 20046/20046\n",
      "--\n"
     ]
    }
   ],
   "source": [
    "model.fit({'input': X}, {'targets': Y}, n_epoch=16, validation_set=({'input': test_x}, {'targets': test_y}), snapshot_step=200, show_metric=True, run_id=MODEL_NAME)"
   ]
  },
  {
   "cell_type": "code",
   "execution_count": 14,
   "metadata": {},
   "outputs": [
    {
     "name": "stdout",
     "output_type": "stream",
     "text": [
      "INFO:tensorflow:/home/airoot/CNN_Melanona/AIrootNet/MelanomaBenVsMal-1e-06-MelanomaCNN_AIrootNet.model is not in all_model_checkpoint_paths. Manually adding it.\n"
     ]
    }
   ],
   "source": [
    "model.save(MODEL_NAME)"
   ]
  },
  {
   "cell_type": "code",
   "execution_count": 15,
   "metadata": {},
   "outputs": [
    {
     "name": "stdout",
     "output_type": "stream",
     "text": [
      "True_Positive : 1149\n",
      "False_Negative : 852\n",
      "True_Negative : 1276\n",
      "False_Positive : 736\n"
     ]
    }
   ],
   "source": [
    "# True positive: Sick people correctly identified as sick\n",
    "# False positive: Healthy people incorrectly identified as sick\n",
    "# True negative: Healthy people correctly identified as healthy\n",
    "# False negative: Sick people incorrectly identified as healthy\n",
    "# In general, Positive = identified and negative = rejected. Therefore:\n",
    "\n",
    "# True positive = correctly identified\n",
    "# False positive = incorrectly identified\n",
    "# True negative = correctly rejected\n",
    "# False negative = incorrectly rejected\n",
    "\n",
    "Mal_True_Positive = 0\n",
    "Mal_False_Negative = 0 \n",
    "Ben_True_Negative = 0\n",
    "Ben_False_Positive = 0\n",
    "\n",
    "Mal_test_data = np.load('Mal_test_data.npy')\n",
    "Ben_test_data = np.load('Ben_test_data.npy')\n",
    "\n",
    "for num, data in enumerate(Mal_test_data):\n",
    "#     print(num)\n",
    "    img_data = data[0]\n",
    "    data1 = img_data.reshape(IMG_SIZE,IMG_SIZE,1)\n",
    "    #print(data1)\n",
    "    model_out = model.predict([data1])\n",
    "#     print(model_out)\n",
    "    \n",
    "    if np.argmax(model_out) == 1: \n",
    "        str_label='Mal'\n",
    "        Mal_True_Positive += 1\n",
    "    \n",
    "    else: \n",
    "        str_label = 'Ben'\n",
    "        Mal_False_Negative += 1\n",
    "    \n",
    "#     print(str_label)\n",
    "# print(\"True Positive : \" + str(i))\n",
    "# print(\"False Negative : \" + str(j))\n",
    "\n",
    "for num, data in enumerate(Ben_test_data):\n",
    "#     print(num)\n",
    "    img_data = data[0]\n",
    "    data1 = img_data.reshape(IMG_SIZE,IMG_SIZE,1)\n",
    "    #print(data1)\n",
    "    model_out = model.predict([data1])\n",
    "#     print(model_out)\n",
    "    \n",
    "    if np.argmax(model_out) == 1: \n",
    "        str_label='Mal'\n",
    "        Ben_False_Positive += 1\n",
    "    \n",
    "    else: \n",
    "        str_label = 'Ben'\n",
    "        Ben_True_Negative += 1\n",
    "\n",
    "\n",
    "        \n",
    "print(\"True_Positive : \" + str(Mal_True_Positive))\n",
    "print(\"False_Negative : \" + str(Mal_False_Negative))\n",
    "print(\"True_Negative : \" + str(Ben_True_Negative))\n",
    "print(\"False_Positive : \" + str(Ben_False_Positive))"
   ]
  },
  {
   "cell_type": "code",
   "execution_count": null,
   "metadata": {},
   "outputs": [],
   "source": []
  }
 ],
 "metadata": {
  "kernelspec": {
   "display_name": "Python 3",
   "language": "python",
   "name": "python3"
  },
  "language_info": {
   "codemirror_mode": {
    "name": "ipython",
    "version": 3
   },
   "file_extension": ".py",
   "mimetype": "text/x-python",
   "name": "python",
   "nbconvert_exporter": "python",
   "pygments_lexer": "ipython3",
   "version": "3.5.2"
  }
 },
 "nbformat": 4,
 "nbformat_minor": 2
}
